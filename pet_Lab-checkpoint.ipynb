{
 "cells": [
  {
   "cell_type": "code",
   "execution_count": 8,
   "metadata": {},
   "outputs": [
    {
     "name": "stdout",
     "output_type": "stream",
     "text": [
      "1:Hi I am 3 yrs and my name is Garfield \n",
      "I am not house trained and no one owns me\n",
      "2:Hi I am 3 yrs and my name is Garfield \n",
      "I am not house trained and no one owns me\n",
      "3:no one\n",
      "4:Hi I am 3 yrs and my name is Garfield \n",
      "I am not house trained and Jon owns me\n",
      "5:Hi I am 3 yrs and my name is Garfield \n",
      "I am not house trained and Jon owns me\n",
      "\n",
      "6:Hi I am 3 yrs and my name is Garfield \n",
      "I am not house trained and Jon owns me\n",
      "\n",
      "7:Hi I am 2 yrs and my name is Beethoven \n",
      "I am not house trained and no one owns me\n",
      "\n",
      "8:Hi I am 5 yrs and my name is Jake \n",
      "I am not house trained and no one owns me\n",
      "\n",
      "9:Hi I am 7 yrs and my name is Stuart \n",
      "I am not house trained and no one owns me\n"
     ]
    }
   ],
   "source": [
    "#studentNumber:301000913\n",
    "#name: Chunghyun Lee\n",
    "#selectionNumber: COMP 216-001\n",
    "class Pet:\n",
    "    def __init__(self, name, number):\n",
    "        self.name = name\n",
    "        self.number = number\n",
    "        self.owner = 'no one'\n",
    "        \n",
    "    def set_owner(self, owner):\n",
    "        self.owner = owner\n",
    "        \n",
    "    def __str__(self):\n",
    "        return 'Hi I am %d yrs and my name is %s \\nI am not house trained and %s owns me' % (self.number, self.name, self.owner)\n",
    "\n",
    "    def train(self):\n",
    "        self.number += 0\n",
    "        \n",
    "garfield = Pet('Garfield', 3)\n",
    "x=1\n",
    "print (f'{x}:{garfield}')\n",
    "x+=1\n",
    "print (f'{x}:{garfield}')\n",
    "x+=1\n",
    "print (f'{x}:{garfield.owner}')\n",
    "garfield.set_owner('Jon')\n",
    "x+=1\n",
    "print (f'{x}:{garfield}')\n",
    "garfield.train()\n",
    "x+=1\n",
    "print (f'{x}:{garfield}')\n",
    "\n",
    "#create a list with about 4 pets\n",
    "\n",
    "pets= [garfield, Pet('Beethoven',2), Pet('Jake',5), Pet('Stuart',7)]\n",
    "\n",
    "for p in pets:\n",
    "\n",
    "  x+=1\n",
    "\n",
    "  print(f'\\n{x}:{p}')"
   ]
  },
  {
   "cell_type": "code",
   "execution_count": null,
   "metadata": {},
   "outputs": [],
   "source": []
  }
 ],
 "metadata": {
  "kernelspec": {
   "display_name": "Python 3",
   "language": "python",
   "name": "python3"
  },
  "language_info": {
   "codemirror_mode": {
    "name": "ipython",
    "version": 3
   },
   "file_extension": ".py",
   "mimetype": "text/x-python",
   "name": "python",
   "nbconvert_exporter": "python",
   "pygments_lexer": "ipython3",
   "version": "3.8.5"
  }
 },
 "nbformat": 4,
 "nbformat_minor": 4
}
